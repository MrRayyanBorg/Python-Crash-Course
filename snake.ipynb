{
 "cells": [
  {
   "cell_type": "code",
   "execution_count": null,
   "metadata": {
    "hide_input": false,
    "slideshow": {
     "slide_type": "notes"
    }
   },
   "outputs": [],
   "source": [
    "# We'll need random numbers\n",
    "import random"
   ]
  },
  {
   "cell_type": "markdown",
   "metadata": {
    "slideshow": {
     "slide_type": "slide"
    }
   },
   "source": [
    "# Snake\n",
    "\n",
    "### Reminder\n",
    "\n",
    "A round of snake goes like this\n",
    "\n",
    "* Everyone stands up\n",
    "* We keep rolling two dice and adding them to a running total\n",
    "* You can choose to sit down and take that running total as your score for the round\n",
    "* **Except** if either of the dice shows a $1$, then if you're still standing you score $0$\n",
    "* (We'll ignore a $1$ on the first round)\n",
    "\n",
    "Snake is usually played over five rounds `S N A K E` and the grand total is your final score."
   ]
  },
  {
   "cell_type": "markdown",
   "metadata": {
    "slideshow": {
     "slide_type": "slide"
    }
   },
   "source": [
    "Roll two dice and add them"
   ]
  },
  {
   "cell_type": "code",
   "execution_count": null,
   "metadata": {
    "hide_input": true,
    "scrolled": true,
    "slideshow": {
     "slide_type": "-"
    }
   },
   "outputs": [],
   "source": [
    "def snake_roll():\n",
    "    a = random.randint(1,6)\n",
    "    b = random.randint(1,6)\n",
    "    return a,b,a+b\n",
    "r = snake_roll()\n",
    "print(\"{}+{}={}\".format(r[0],r[1],r[2]))"
   ]
  },
  {
   "cell_type": "markdown",
   "metadata": {
    "slideshow": {
     "slide_type": "subslide"
    }
   },
   "source": [
    "## How many rolls does an average round last?"
   ]
  },
  {
   "cell_type": "markdown",
   "metadata": {
    "slideshow": {
     "slide_type": "fragment"
    }
   },
   "source": [
    "### Task\n",
    "\n",
    "Use this scaffolding to write a function which simulates a round of snake. It should return the number of rolls before a $1$ appears."
   ]
  },
  {
   "cell_type": "code",
   "execution_count": null,
   "metadata": {
    "slideshow": {
     "slide_type": "subslide"
    }
   },
   "outputs": [],
   "source": [
    "def snake_rolls():\n",
    "    rolls = 0\n",
    "    while True:\n",
    "        a = random.randint(1,6)\n",
    "        b = random.randint(1,6)\n",
    "        if a==1 or b==1: \n",
    "            return rolls\n",
    "        else:\n",
    "            rolls += 1\n",
    "#Remember jupyter echoes the last value in a cell, so we don't need to bother printing\n",
    "snake_rolls()"
   ]
  },
  {
   "cell_type": "markdown",
   "metadata": {
    "slideshow": {
     "slide_type": "subslide"
    }
   },
   "source": [
    "A possible solution"
   ]
  },
  {
   "cell_type": "code",
   "execution_count": null,
   "metadata": {
    "slideshow": {
     "slide_type": "-"
    }
   },
   "outputs": [],
   "source": [
    "def snake_rolls():\n",
    "    rolls = 0\n",
    "    while True:\n",
    "        # Roll them dice\n",
    "        a = random.randint(1,6)\n",
    "        b = random.randint(1,6)\n",
    "        # Got a 1?\n",
    "        if (a==1 or b==1) and rolls > 0:\n",
    "            # Return the score\n",
    "            return rolls\n",
    "        else:\n",
    "            # What's the new score\n",
    "            rolls += 1\n",
    "#Remember jupyter echoes the last value in a cell, so we don't need to bother printing\n",
    "snake_rolls()"
   ]
  },
  {
   "cell_type": "code",
   "execution_count": null,
   "metadata": {
    "slideshow": {
     "slide_type": "-"
    }
   },
   "outputs": [],
   "source": [
    "def snake_score():\n",
    "    score = 0\n",
    "    while True:\n",
    "        # Roll them dice\n",
    "        a = random.randint(1,6)\n",
    "        b = random.randint(1,6)\n",
    "        # Got a 1?\n",
    "        if a==1 or b==1:\n",
    "            # Return the score\n",
    "            return score\n",
    "        else:\n",
    "            # What's the new score\n",
    "            score += a+b\n",
    "#Remember jupyter echoes the last value in a cell, so we don't need to bother printing\n",
    "snake_score()"
   ]
  },
  {
   "cell_type": "markdown",
   "metadata": {
    "slideshow": {
     "slide_type": "subslide"
    }
   },
   "source": [
    "### Discuss\n",
    "\n",
    "How can you use `snake_rolls()` to decide what an \"average\" number of rolls is?"
   ]
  },
  {
   "cell_type": "markdown",
   "metadata": {
    "slideshow": {
     "slide_type": "-"
    }
   },
   "source": [
    "What is a good Python type for collecting this data?"
   ]
  },
  {
   "cell_type": "code",
   "execution_count": null,
   "metadata": {
    "slideshow": {
     "slide_type": "subslide"
    }
   },
   "outputs": [],
   "source": [
    "# Play 1000 rounds of snake\n",
    "data = [snake_rolls() for i in range(1000)]\n",
    "data"
   ]
  },
  {
   "cell_type": "markdown",
   "metadata": {
    "slideshow": {
     "slide_type": "fragment"
    }
   },
   "source": [
    "### Task\n",
    "\n",
    "* Find the \"average\" number of rolls for your thousand rounds\n",
    "* How could you improve this estimate?\n",
    "* Is your method as efficient as it could be?"
   ]
  },
  {
   "cell_type": "markdown",
   "metadata": {
    "slideshow": {
     "slide_type": "subslide"
    }
   },
   "source": [
    "### Discuss\n",
    "\n",
    "* Which definition of average did you choose (mean, median, mode)?\n",
    "* Why did you choose that measure of average?"
   ]
  },
  {
   "cell_type": "markdown",
   "metadata": {
    "slideshow": {
     "slide_type": "fragment"
    }
   },
   "source": [
    "### Next steps\n",
    "\n",
    "In `snake meets pandas` we'll use a standard data analysis package to explore our game data further."
   ]
  }
 ],
 "metadata": {
  "celltoolbar": "Slideshow",
  "kernelspec": {
   "display_name": "Python 3",
   "language": "python",
   "name": "python3"
  },
  "language_info": {
   "codemirror_mode": {
    "name": "ipython",
    "version": 3
   },
   "file_extension": ".py",
   "mimetype": "text/x-python",
   "name": "python",
   "nbconvert_exporter": "python",
   "pygments_lexer": "ipython3",
   "version": "3.5.2"
  }
 },
 "nbformat": 4,
 "nbformat_minor": 2
}
