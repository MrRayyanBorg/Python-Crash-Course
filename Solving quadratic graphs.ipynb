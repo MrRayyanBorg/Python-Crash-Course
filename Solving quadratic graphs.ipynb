{
 "cells": [
  {
   "cell_type": "markdown",
   "metadata": {},
   "source": [
    "# Solving quadratic inequalities"
   ]
  },
  {
   "cell_type": "markdown",
   "metadata": {},
   "source": [
    "### What does it mean to solve a quadratic inequality?\n",
    "\n",
    "It is just like solving an equality. You find the values of $x$ for which your inequality is true!\n",
    "\n",
    "### Example: \n",
    "\n",
    "Solve the inequality below\n",
    "\n",
    "$$x^2-4x-12 < 0$$\n",
    "\n",
    "This means find $x$ when your inequality is true."
   ]
  },
  {
   "cell_type": "markdown",
   "metadata": {},
   "source": [
    "## Two possible ways:\n",
    "\n",
    "### By inspection\n",
    "\n",
    "\n",
    "### Using a quadratic graph:\n"
   ]
  },
  {
   "cell_type": "code",
   "execution_count": null,
   "metadata": {},
   "outputs": [],
   "source": []
  }
 ],
 "metadata": {
  "kernelspec": {
   "display_name": "Python 3",
   "language": "python",
   "name": "python3"
  },
  "language_info": {
   "codemirror_mode": {
    "name": "ipython",
    "version": 3
   },
   "file_extension": ".py",
   "mimetype": "text/x-python",
   "name": "python",
   "nbconvert_exporter": "python",
   "pygments_lexer": "ipython3",
   "version": "3.5.2"
  }
 },
 "nbformat": 4,
 "nbformat_minor": 2
}
