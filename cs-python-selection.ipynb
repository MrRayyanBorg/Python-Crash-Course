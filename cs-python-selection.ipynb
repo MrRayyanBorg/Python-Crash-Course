{
 "cells": [
  {
   "cell_type": "markdown",
   "metadata": {},
   "source": [
    "# Selection\n",
    "\n",
    "Sometimes we only want a program to execute code under certain circumstances.  We call this selection.  The most commonly used way of doing this is using if.  Here we say if a condition is true execute some code. \n",
    "First we need to make sure we are happy what a condition is.  A boolean condition is one that can have only two values true or false. \n",
    "\n",
    "The boolean comparison operators are as follows:\n",
    " \n",
    "Operator Meaning\n",
    "\n",
    "symbol ==   Equal to\n",
    "\n",
    "symbol !=   Not equal to\n",
    "\n",
    "symbol <    Less than\n",
    "\n",
    "symbol <=  Less than or equal to\n",
    "\n",
    "symbol >    Greater than\n",
    "\n",
    "symbol >=   Greater than or equal to"
   ]
  },
  {
   "cell_type": "code",
   "execution_count": null,
   "metadata": {},
   "outputs": [],
   "source": [
    "letter = 'a'\n",
    "if letter =='a':\n",
    "    print('This prints if letter is a')"
   ]
  },
  {
   "cell_type": "markdown",
   "metadata": {},
   "source": [
    "We can add as many statements we want inside the if.  Each should be indented.\n",
    "We can tell the computer to do something different when the condition isn’t true using the else keyword."
   ]
  },
  {
   "cell_type": "code",
   "execution_count": null,
   "metadata": {},
   "outputs": [],
   "source": [
    "if letter =='a':\n",
    "    print('This prints if letter is a')\n",
    "else:\n",
    "    print('This prints if the letter is not an a')"
   ]
  },
  {
   "cell_type": "markdown",
   "metadata": {},
   "source": [
    "### Task 1:\n",
    "Write a program that tells the user what to wear (shorts, trousers, hat, coat, etc etc you choose) based on the temperature that they input.\n",
    "\n",
    "Use well-named variable(s), constants(s), string(s), type conversion, a complex IF statement, comparison and logical operators, and good input and output messages."
   ]
  },
  {
   "cell_type": "code",
   "execution_count": 2,
   "metadata": {},
   "outputs": [
    {
     "name": "stdout",
     "output_type": "stream",
     "text": [
      "Enter Temperature34\n",
      "Wear whatever you like.\n"
     ]
    }
   ],
   "source": [
    "# add your code here\n",
    "t = int(input(\"Enter Temperature\"))\n",
    "if t < 15:\n",
    "    print(\"Wear ALOT of layers, it'll be cold out.\")\n",
    "else:\n",
    "    print(\"Wear summer clothes.\")\n",
    "\n"
   ]
  },
  {
   "cell_type": "markdown",
   "metadata": {},
   "source": [
    "### A Note on Indentation\n",
    "When you start a new line after a colon your code (if writing it inside IDLE) you should find your code indented).  Lines will keep indenting until you press backspace.  Python knows that anything indented is inside the structure with the colon - in this case the if.  Indenting is considered good practice in all programming languages as it makes code easier to read but in Python it is even more important as it affects the code’s meaning."
   ]
  },
  {
   "cell_type": "markdown",
   "metadata": {},
   "source": [
    "Copy and run sinle line of the code in the cell below and observe the results\n",
    "\n",
    "1 < x < 3\n",
    "\n",
    "10 < x < 20\n",
    "\n",
    "3 > x <= 2\n",
    "\n",
    "2 == x < 4"
   ]
  },
  {
   "cell_type": "code",
   "execution_count": 3,
   "metadata": {},
   "outputs": [
    {
     "data": {
      "text/plain": [
       "True"
      ]
     },
     "execution_count": 3,
     "metadata": {},
     "output_type": "execute_result"
    }
   ],
   "source": [
    "x = 2\n",
    "# write a single line of code here and run \n",
    "\n",
    "1 < x < 3\n",
    "\n",
    "10 < x < 20\n",
    "\n",
    "3 > x <= 2\n",
    "\n",
    "2 == x < 4\n",
    "# observe the results\n"
   ]
  },
  {
   "cell_type": "code",
   "execution_count": 5,
   "metadata": {},
   "outputs": [
    {
     "ename": "SyntaxError",
     "evalue": "invalid syntax (<ipython-input-5-0e4b46cc871f>, line 4)",
     "output_type": "error",
     "traceback": [
      "\u001b[0;36m  File \u001b[0;32m\"<ipython-input-5-0e4b46cc871f>\"\u001b[0;36m, line \u001b[0;32m4\u001b[0m\n\u001b[0;31m    if x>=1 and <=100:\u001b[0m\n\u001b[0m                 ^\u001b[0m\n\u001b[0;31mSyntaxError\u001b[0m\u001b[0;31m:\u001b[0m invalid syntax\n"
     ]
    }
   ],
   "source": [
    "# input any number between 1 and 100\n",
    "x=int(input('Enter a number between 1 and 100: '))\n",
    "# check the validity of the number\n",
    "if x>=1 and <=100:\n",
    "    print('You have entered a valid number')\n",
    "else:\n",
    "    print('Your number is not valid')"
   ]
  },
  {
   "cell_type": "markdown",
   "metadata": {},
   "source": [
    "A common mistake would be to write the if line as if x>=1 and <=100 missing out the second x.  Remove the x and check out the result. Does it generate an error?"
   ]
  },
  {
   "cell_type": "markdown",
   "metadata": {},
   "source": [
    "#### Logical operators\n",
    "For more complex conditions we can use AND, OR and NOT. \n",
    "\n",
    "AND : both conditions must be TRUE\n",
    "\n",
    "OR : one condition must be TRUE\n",
    "\n",
    "NOT : only applies to one condition - the opposite"
   ]
  },
  {
   "cell_type": "markdown",
   "metadata": {},
   "source": [
    "## Psuedocode example for IF/ELSE statements\n",
    "\n",
    "IF age > 12 AND height > 3 THEN\n",
    "\n",
    "  OUTPUT “You can ride the roller coaster”\n",
    "  \n",
    "END IF\n",
    "\n",
    "IF age <13 OR age > 19 THEN\n",
    "\n",
    "  OUTPUT “You are not eligible for teen discount”\n",
    "  \n",
    "END IF\n",
    "\n",
    "IF NOT ((age > 12) AND (height > 3)) THEN\n",
    "\n",
    "  OUTPUT “You cannot ride the roller coaster”\n",
    "  \n",
    "END IF"
   ]
  },
  {
   "cell_type": "markdown",
   "metadata": {},
   "source": [
    "##### Could you explain the logic for the above program?"
   ]
  },
  {
   "cell_type": "markdown",
   "metadata": {},
   "source": [
    "### Task 2:\n",
    "\n",
    "The grade boundaries for a test are:\n",
    "U -  0\n",
    "D – 40\n",
    "C – 50\n",
    "B – 60\n",
    "A – 70\n",
    "\n",
    "Write a Python program that asks for a mark and then says what grade it is worth."
   ]
  },
  {
   "cell_type": "code",
   "execution_count": 6,
   "metadata": {},
   "outputs": [
    {
     "name": "stdout",
     "output_type": "stream",
     "text": [
      "enter your grade34\n",
      "You got a D\n"
     ]
    }
   ],
   "source": [
    "# write your code here\n",
    "g = int(input(\"enter your grade\"))\n",
    "if g <= 40:\n",
    "    print(\"You got a D\")\n",
    "elif g <= 50 and g >= 41:\n",
    "    print(\"You got a C\")\n",
    "elif g <= 60 and g >=51 :\n",
    "    print(\"You got a B\")\n",
    "elif g <= 70 and g >= 61:\n",
    "    print(\"you got an A\")\n",
    "else:\n",
    "    print(\"Your got a U\")"
   ]
  },
  {
   "cell_type": "markdown",
   "metadata": {},
   "source": [
    "### Task 3:\n",
    "Write a Python program which asks the user to enter the cost of two items, adds the two costs and if the cost is greater than £10.00, displays a message “Sorry, too much”. Otherwise it displays the change due from £10.00."
   ]
  },
  {
   "cell_type": "code",
   "execution_count": null,
   "metadata": {},
   "outputs": [],
   "source": [
    "# write your code here\n",
    "c1 = float(input(\"enter the cost of the first item\"))\n",
    "c2 = float(input(\"enter the cost of the second item\"))\n",
    "total = c1+c2\n",
    "calc = 10 - total\n",
    "if total > 10:\n",
    "    print(\"Sorry, too much!\")\n",
    "else:\n",
    "    print(calc)"
   ]
  },
  {
   "cell_type": "markdown",
   "metadata": {},
   "source": [
    "### Task 4: Using IF-ELSE statements, write the Python program for the following problems.\n",
    "\n",
    "1) Allow entry to a movie if the user is older than 18 or if they are accompanied by an adult\n",
    "\n",
    "2) Allow the user to come to your party if they are a boy and they like pizza\n",
    "\n",
    "3) Remind the user to take an umbrella if the temperature is higher than 17 and the chance of rain is higher than 80%"
   ]
  },
  {
   "cell_type": "code",
   "execution_count": 18,
   "metadata": {},
   "outputs": [
    {
     "name": "stdout",
     "output_type": "stream",
     "text": [
      "Enter your age32\n",
      "Entry is Allowed\n",
      "enter genderfemale\n",
      "Do you like pizzano\n",
      "You cant come\n",
      "what is the temperature54\n",
      "what is the chance of rain34\n",
      "No umbrella needed\n"
     ]
    }
   ],
   "source": [
    "# write your code here\n",
    "age = int(input(\"Enter your age\"))\n",
    "if (age < 18):\n",
    "    print(\"you must be accompanied by an adult\")\n",
    "elif (age > 17):\n",
    "    print(\"Entry is Allowed\")\n",
    "g = str(input(\"enter gender\"))\n",
    "p = str(input(\"Do you like pizza\"))\n",
    "if g == 'boy' and p == 'yes':\n",
    "    print(\"You can come\")\n",
    "else:\n",
    "    print(\"You cant come\")\n",
    "temp = int(input(\"what is the temperature\"))\n",
    "rain = int(input(\"what is the chance of rain\"))\n",
    "if temp > 17 and rain > 80:\n",
    "    print(\"remember to take an umbrella\")\n",
    "else:\n",
    "    print(\"No umbrella needed\")\n",
    "            "
   ]
  },
  {
   "cell_type": "code",
   "execution_count": null,
   "metadata": {},
   "outputs": [],
   "source": []
  }
 ],
 "metadata": {
  "kernelspec": {
   "display_name": "Python 3",
   "language": "python",
   "name": "python3"
  },
  "language_info": {
   "codemirror_mode": {
    "name": "ipython",
    "version": 3
   },
   "file_extension": ".py",
   "mimetype": "text/x-python",
   "name": "python",
   "nbconvert_exporter": "python",
   "pygments_lexer": "ipython3",
   "version": "3.6.5"
  }
 },
 "nbformat": 4,
 "nbformat_minor": 2
}
