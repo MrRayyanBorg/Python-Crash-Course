{
 "cells": [
  {
   "cell_type": "markdown",
   "metadata": {},
   "source": [
    "## Write a program to calculate the trip costs.\n",
    "\n",
    "a) use appropriate variable, constant and function names.\n",
    "b) don't forget to put comments in the code.\n",
    "c) In comments for each function, do mention the purpose the function, the input parameters and the return value from the function\n"
   ]
  },
  {
   "cell_type": "code",
   "execution_count": null,
   "metadata": {},
   "outputs": [],
   "source": [
    "# function name: hotel_cost\n",
    "# purpose: to calculate the hotel costs for the number of nights the user what to stay\n",
    "# input parameters:  nights - number of nights to book\n",
    "# return: returns the hotel cost for the number of nights the user wants to stay\n",
    "def hotel_cost(hotel):\n",
    "    \n",
    "    # give option to the user 50 pounds/night for Holiday Inn, 90 pounds/night for Hilton and 120 pounds/night for Marriott\n",
    "    # let us the user choose from these 3 options\n",
    "    if hotelhotel==\"Holiday Inn\":\n",
    "        return 50\n",
    "    elif hotel==\"Hilton\":\n",
    "        return 90\n",
    "    elif hotel==\"Marriott\":\n",
    "        return 120\n",
    "\n",
    "\n",
    "def plane_ride_cost(city):\n",
    "    \n",
    "    if city==\"Madrid\":\n",
    "        return 270\n",
    "    elif city==\"Paris\":\n",
    "        return 280\n",
    "    elif city==\"Berlin\":\n",
    "        return 220\n",
    "    elif city==\"Edinburgh\":\n",
    "        return 150\n",
    "\n",
    "\n",
    "# use constant names instead of numbers\n",
    "def rental_car_cost(days):\n",
    "    \n",
    "    # fixed charge for one day is 40 pounds\n",
    "    cost=days*40\n",
    "    # add 50 pounds discount if the car is rented for more than 7 days \n",
    "    # add 20 pounds discount if the car is rented for more than 3 days\n",
    "    if days>3:\n",
    "        if days>7:\n",
    "            cost = 50\n",
    "        cost = 20\n",
    "\n",
    "    return cost\n",
    "\n",
    "# write other costs for the trip (food, rides, museum)\n",
    "# define your function for other costs\n",
    "def other_costs(otherCosts):\n",
    "    \n",
    "    #total costs\n",
    "    \n",
    "    return otherCosts\n",
    "\n",
    "# add other costs in the trip costs\n",
    "def trip_cost(hotel,city,days,otherCosts):\n",
    "    print( rental_car_cost(days)+hotel_cost(hotel)+plane_ride_cost(city)+other_costs )\n",
    "\n"
   ]
  },
  {
   "cell_type": "code",
   "execution_count": null,
   "metadata": {},
   "outputs": [],
   "source": [
    "# write the main program and call the functions appropriately  \n",
    "    # add comments below, what are these variables used for?\n",
    "hotels = ['Holiday Inn','Hilton', 'Marriott']\n",
    "cities = ['Madrid', 'Paris', 'Berlin', 'Edinburgh']\n",
    "\n",
    "print(hotels)\n",
    "hotel= input(\"Enter hotel:\")\n",
    "\n",
    "print(cities)\n",
    "city= input(\"Enter city:\")\n",
    "\n",
    "days= input (\"Enter days of car rental:\")\n",
    "otherCosts= input(\"Enter the total of any other costs\")\n",
    "\n",
    "trip_cost(hotel,city,days,otherCosts)\n",
    "\n"
   ]
  }
 ],
 "metadata": {
  "kernelspec": {
   "display_name": "Python 3",
   "language": "python",
   "name": "python3"
  },
  "language_info": {
   "codemirror_mode": {
    "name": "ipython",
    "version": 3
   },
   "file_extension": ".py",
   "mimetype": "text/x-python",
   "name": "python",
   "nbconvert_exporter": "python",
   "pygments_lexer": "ipython3",
   "version": "3.6.6"
  }
 },
 "nbformat": 4,
 "nbformat_minor": 2
}
