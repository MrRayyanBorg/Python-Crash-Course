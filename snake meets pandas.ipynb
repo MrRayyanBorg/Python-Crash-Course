{
 "cells": [
  {
   "cell_type": "code",
   "execution_count": null,
   "metadata": {},
   "outputs": [],
   "source": [
    "import random\n",
    "def snake_score():\n",
    "    rolls = 0\n",
    "    score = 0\n",
    "    while True:\n",
    "        # Roll them dice\n",
    "        a = random.randint(1,6)\n",
    "        b = random.randint(1,6)\n",
    "        # Got a 1?\n",
    "        if (a==1 or b==1) and rolls > 0:\n",
    "            # Return the score\n",
    "            return score\n",
    "        else:\n",
    "            # What's the new score\n",
    "            score += a+b\n",
    "            rolls += 1\n",
    "#Remember jupyter echoes the last value in a cell, so we don't need to bother printing\n",
    "snake_score()"
   ]
  },
  {
   "cell_type": "code",
   "execution_count": null,
   "metadata": {},
   "outputs": [],
   "source": [
    "import pandas as pd\n",
    "import numpy as np\n",
    "%matplotlib inline"
   ]
  },
  {
   "cell_type": "code",
   "execution_count": null,
   "metadata": {
    "scrolled": false
   },
   "outputs": [],
   "source": [
    "data = []\n",
    "for i in range(1000):\n",
    "    data.append(snake_score())"
   ]
  },
  {
   "cell_type": "markdown",
   "metadata": {},
   "source": [
    "We could have done this without the explicit loop, using Python's list comprehension syntax\n",
    "> `[snake_score() for _ in range(1000)]`"
   ]
  },
  {
   "cell_type": "markdown",
   "metadata": {},
   "source": [
    "Let's see the first five results"
   ]
  },
  {
   "cell_type": "code",
   "execution_count": null,
   "metadata": {},
   "outputs": [],
   "source": [
    "data_series = pd.Series(data)\n",
    "data_series.head(5)"
   ]
  },
  {
   "cell_type": "markdown",
   "metadata": {
    "hide_input": true
   },
   "source": [
    "### Task\n",
    "\n",
    "* Find the mean and median for your data\n",
    "* Are they similar? Different? What does this suggest?\n",
    "* Use `data_series.hist()` to look at the distribution of scores\n",
    "\n",
    "One possible snake strategy could be\n",
    "> Play it safe. Sit down when you reach a lower quartile score\n",
    "\n",
    "* Can you estimate the total score over five rounds obtained by using this strategy?\n",
    "* Explore and evaluate some other score-related strategies."
   ]
  }
 ],
 "metadata": {
  "kernelspec": {
   "display_name": "Python 3",
   "language": "python",
   "name": "python3"
  },
  "language_info": {
   "codemirror_mode": {
    "name": "ipython",
    "version": 3
   },
   "file_extension": ".py",
   "mimetype": "text/x-python",
   "name": "python",
   "nbconvert_exporter": "python",
   "pygments_lexer": "ipython3",
   "version": "3.5.2"
  }
 },
 "nbformat": 4,
 "nbformat_minor": 2
}
