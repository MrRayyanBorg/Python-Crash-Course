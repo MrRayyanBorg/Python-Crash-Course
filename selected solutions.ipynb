{
 "cells": [
  {
   "cell_type": "markdown",
   "metadata": {},
   "source": [
    "# Problem 8\n",
    "$$\\begin{align}\n",
    "a+b&=c+d&&\\text{any two equal sums}\\\\\n",
    "(a+k)+(b+k)&=(c+k)+(d+k)&&\\text{add something to each}\\\\\n",
    "a+b+(c+k)+(d+k)&=c+d+(a+k)+(b+k)&&\\text{add opposite sides}\\\\\n",
    "\\text{We want to show that }a^2+b^2+(c+k)^2+(d+k)^2&=(a+k)^2+(b+k)^2+c^2+d^2\\\\[3ex]\n",
    "\\text{LHS}=a^2+b^2+\\color{blue}{(c+k)^2}+\\color{red}{(d+k)^2}&=a^2+b^2+\\color{blue}{c^2+2ck+k^2}+\\color{red}{d^2+2dk+k^2}&&\\text{by multiplying out}\\\\\n",
    "&=a^2+b^2+c^2+d^2+2k(\\color{purple}{c+d})+2k^2&&\\text{regroup}\\\\\n",
    "&=a^2+b^2+c^2+d^2+2k(\\color{purple}{a+b})+2k^2&&\\text{because }a+b=c+d\\\\\n",
    "&=\\color{blue}{a^2+2ak+k^2}+\\color{red}{b^2+2bk+k^2}+c^2+d^2&&\\text{by multiplying out}\\\\\n",
    "&=\\color{blue}{(a+k)^2}+\\color{red}{(b+k)^2}+c^2+d^2&&\\text{by factorising}\\\\\n",
    "&=\\text{RHS}\n",
    "\\end{align}$$"
   ]
  },
  {
   "cell_type": "markdown",
   "metadata": {
    "collapsed": true
   },
   "source": [
    "# Problem 7\n",
    "\n",
    "---\n",
    "\n",
    "Any odd number is of the form $2n+1$\n",
    "$$\\begin{aligned}\n",
    "(2n+1)^2&=4n^2+4n+1\\\\\n",
    "&=4n(n+1)+1\\\\\n",
    "\\end{aligned}$$\n",
    "\n",
    "Either $n$ is even or $n+1$ is even. Either way this is one more than a multiple of $8$ so um$\\ldots$\n",
    "\n",
    "---\n",
    "\n",
    "If one of $n$ or $n+1$ is a multiple of $3$, then our square number is one more than a multiple of $24$ and um$\\ldots$\n",
    "\n",
    "Or $n$ and $n+1$ are of the form $3m+1$ and $3m+2$, in which case we have $$4(3m+1)(3m+2)+1=4(9m^2+9m+2)+1=36m^2+36m+9$$\n",
    "\n",
    "This is getting me nowhere! :(\n",
    "\n",
    "---\n",
    "\n",
    "Let's start with our number in tens and units, $10a+b$ where $0\\leq a,b\\leq9$.\n",
    "\n",
    "Then $$(10a+b)^2=100a^2+20ab+b^2$$.\n",
    "\n",
    "The $100a^2$ term won't affect the tens digit, so we're only interested in $$20ab+b^2=b(20a+b)$$\n",
    "\n",
    "That's no help either.\n",
    "\n",
    "---\n",
    "\n",
    "Let's be more specific. There are five possible cases:\n",
    "$$\\text{Our odd number }=\\begin{cases}\n",
    "10n+1\\\\10n+3\\\\10n+5\\\\10n+7\\\\10n+9\\end{cases}$$\n",
    "\n",
    "Consider $$(10n+1)^2=100n^2+20n+1$$\n",
    "The $100n^2$ term and the $1$ will have no affect on the tens digit. $20n=10(2n)$ so the tens digit will always be even.\n",
    "\n",
    "Checking the other cases\n",
    "$$\\begin{cases}\n",
    "(10n+3)^2=100n^2+60n+9=\\color{grey}{100n^2+}10(6n)\\color{grey}{+9}\\\\\n",
    "(10n+5)^2=100n^2+100n+25=\\color{grey}{100n^2+}10(10n+2)\\color{grey}{+5}\\\\\n",
    "(10n+7)^2=100n^2+140n+49=\\color{grey}{100n^2+}10(14n+4)\\color{grey}{+9}\\\\\n",
    "(10n+9)^2=100n^2+180n+81=\\color{grey}{100n^2+}10(18n+8)\\color{grey}{+1}\n",
    "\\end{cases}$$\n",
    "\n",
    "In each case it was possible to isolate an even number, $2n$, $6n$, $10n+2$, $14n+4$ or $18n+8$, that is multiplied by $10$. The other two terms $100n^2$ and a constant $<10$ don't affect the tens digit, so it must be even always.\n"
   ]
  },
  {
   "cell_type": "markdown",
   "metadata": {
    "collapsed": true
   },
   "source": [
    "# Problem 3\n",
    "$$\\begin{aligned}x&=\\sqrt{6+\\sqrt{6+\\sqrt{6+\\ldots}}}\\\\\n",
    "x^2&=6+\\sqrt{6+\\sqrt{6+\\ldots}}&&\\text{squaring both sides}\\\\\n",
    "x^2&=6+x&&\\text{by definition}\\\\\n",
    "x^2-x-6&=0&&\\text{rearranging}\\\\\n",
    "(x+2)(x-3)&=0&&\\text{factorising}\\\\\n",
    "\\begin{cases}x&=-2\\\\x&=3\\end{cases}\n",
    "\\end{aligned}$$\n",
    "$-2$ is no solution, assuming we mean the positive square root throughout, so we must have\n",
    "$$\\sqrt{6+\\sqrt{6+\\sqrt{6+\\ldots}}}=3$$\n",
    "\n",
    "*Does this process work for values other than 6? Investigate.*"
   ]
  },
  {
   "cell_type": "markdown",
   "metadata": {},
   "source": [
    "# Problem 5\n",
    "The speed of the horse is $4 \\frac{\\text{metres}}{\\text{time unit}}$ and that of the man is $3 \\frac{\\text{metres}}{\\text{time unit}}$. The time unit is *not* necessarily seconds, but it shouldn't matter.\n",
    "\n",
    "The coordinates of the horse and the man (relative to an origin in the bottom left of the field) are then $$\\begin{aligned}H&=(0,4t)\\\\M&=(30-3t,20)\\end{aligned}$$ at time $t$ units.\n",
    "\n",
    "By Pythagoras, the distance between them $$\\begin{aligned}|HM|&=\\sqrt{(30-3t)^2+(20-4t)^2}\\\\&=\\sqrt{900-180t+9t^2+400-160t+16t^2}\\\\&=\\sqrt{25t^2-340t+1300}\\end{aligned}$$\n",
    "\n",
    "If we find the minimum value of that quadratic, we can then square root it to find the minimum value of $|HM|$.\n",
    "\n",
    "$$\\begin{aligned}\n",
    "25t^2-340t+1300&=25(t^2-\\frac{68}{5}t+52)\\\\\n",
    "&=25\\left(\n",
    " \\left(t-\\frac{34}{5}\\right)^2\n",
    " -\\left(\\frac{34}{5}\\right)^2+52\\right)\n",
    "\\end{aligned}$$\n",
    "\n",
    "The minimum value of this occurs when $\\left(t-\\frac{34}{5}\\right)=0$ which leaves\n",
    "$$\\begin{aligned}25\\left(0-\\left(\\frac{34}{5}\\right)^2+52\\right)&=-34^2+25\\times 52\\\\&=144\\end{aligned}$$\n",
    "\n",
    "So the minimum distance between the horse and the man is $\\sqrt{144}=12 \\text{m}$.\n",
    "\n",
    "This distance occurs when $t=\\frac{34}{5}=6.8$. Substituting gives the distance the horse has run $=4\\times6.8=27.2\\text{m}$. In other words the horse has left the field.\n",
    "\n",
    "The distance the man has run $=3\\times6.8=20.4\\text{m}$ so he hasn't reached the end of the field when the minimum distance to the horse occurs."
   ]
  }
 ],
 "metadata": {
  "anaconda-cloud": {},
  "hide_input": false,
  "kernelspec": {
   "display_name": "Python 3",
   "language": "python",
   "name": "python3"
  },
  "language_info": {
   "codemirror_mode": {
    "name": "ipython",
    "version": 3
   },
   "file_extension": ".py",
   "mimetype": "text/x-python",
   "name": "python",
   "nbconvert_exporter": "python",
   "pygments_lexer": "ipython3",
   "version": "3.5.2"
  }
 },
 "nbformat": 4,
 "nbformat_minor": 1
}
