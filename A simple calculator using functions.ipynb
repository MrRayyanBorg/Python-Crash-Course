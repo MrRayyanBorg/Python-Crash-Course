{
 "cells": [
  {
   "cell_type": "markdown",
   "metadata": {},
   "source": [
    "## A simple calculator using functions\n",
    "\n",
    "1) Read code and discuss - ask questions!\n",
    "\n",
    "2) Comment code\n",
    "\n",
    "3) Extend the calculator with 5 more functions\n"
   ]
  },
  {
   "cell_type": "code",
   "execution_count": null,
   "metadata": {},
   "outputs": [
    {
     "name": "stdout",
     "output_type": "stream",
     "text": [
      "welcome to my calculator\n",
      "A)dd numbers\n",
      "S)ubtract numbers\n",
      "M)ultiply numbers\n",
      "D)ivide numbers\n",
      "P)ower of numbers\n",
      "R)emainder of numbers\n"
     ]
    }
   ],
   "source": [
    "def mainMenu():\n",
    "    validChoices = [\"A\", \"S\", \"M\", \"D\", \"P\", \"R\"]\n",
    "    valid = False\n",
    "    #lists all the available functions\n",
    "    while not valid:\n",
    "        print(\"A)dd numbers\")\n",
    "        print(\"S)ubtract numbers\")\n",
    "        print(\"M)ultiply numbers\")\n",
    "        print(\"D)ivide numbers\")\n",
    "        print(\"P)ower of numbers\")\n",
    "        print(\"R)emainder of numbers\")\n",
    "        choice = input(\"choose your option \").upper()\n",
    "        if choice not in validChoices:\n",
    "            print(\"sorry that is not a valid menu choice \")\n",
    "        else:\n",
    "            valid= True\n",
    "            \n",
    "    return choice\n",
    "    \n",
    "\n",
    "def enterNumber():\n",
    "    valid = False\n",
    "    while not valid:\n",
    "        try:\n",
    "            x=int(input(\"enter a number\"))\n",
    "            valid=True\n",
    "        except ValueError:\n",
    "            print(\"That was not a valid number.. please try again\")\n",
    "    \n",
    "    return x\n",
    "#this function adds two inputs (integers) together \n",
    "def add(x,y):\n",
    "    \n",
    "    return x+y\n",
    "#this function subracts two inputs (integers) from eachother \n",
    "def subtract(x,y):\n",
    "    \n",
    "    return x-y\n",
    "#this function adds multiplies inputs (integers) together \n",
    "def multiply(x,y):\n",
    "    \n",
    "    return x*y\n",
    "#this function divide two inputs (integers) from eachother \n",
    "def divide(x,y):\n",
    "    \n",
    "    return x/y\n",
    "#this function ouputs the power of x in terms of y\n",
    "def power(x,y):\n",
    "    \n",
    "    return x**y\n",
    "#this function outputs the remainder of two integers \n",
    "def remainder(x,y):\n",
    "    \n",
    "    return x//y\n",
    "\n",
    "#main program starts here\n",
    "print(\"welcome to my calculator\")\n",
    "again = \"y\"\n",
    "while again == \"y\":\n",
    "    \n",
    "    userChoice = mainMenu()\n",
    "    #allows the user to select a function\n",
    "    if userChoice == \"A\":\n",
    "        answer = add(enterNumber(), enterNumber())\n",
    "    elif userChoice == \"S\":\n",
    "        answer = subtract(enterNumber(), enterNumber())\n",
    "    elif userChoice == \"M\":\n",
    "        answer = multiply(enterNumber(), enterNumber())\n",
    "    elif userChoice == \"D\":\n",
    "        answer = divide(enterNumber(), enterNumber())\n",
    "    elif userChoice == \"P\":\n",
    "        answer = power(enterNumber(), enterNumber())\n",
    "    elif userChoice == \"R\":\n",
    "        answer = remainder(enterNumber(), enterNumber())\n",
    "    else:\n",
    "        print(\"error - we should never get here\")\n",
    "    \n",
    "    print(\"the answer from your calcaulation is = \"+str(answer))\n"
   ]
  }
 ],
 "metadata": {
  "kernelspec": {
   "display_name": "Python 3",
   "language": "python",
   "name": "python3"
  },
  "language_info": {
   "codemirror_mode": {
    "name": "ipython",
    "version": 3
   },
   "file_extension": ".py",
   "mimetype": "text/x-python",
   "name": "python",
   "nbconvert_exporter": "python",
   "pygments_lexer": "ipython3",
   "version": "3.6.5"
  }
 },
 "nbformat": 4,
 "nbformat_minor": 2
}
